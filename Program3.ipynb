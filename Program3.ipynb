{
  "nbformat": 4,
  "nbformat_minor": 0,
  "metadata": {
    "colab": {
      "name": "Program3.ipynb",
      "provenance": [],
      "authorship_tag": "ABX9TyNdgm7onpaoOutbQ3nSxEQ3",
      "include_colab_link": true
    },
    "kernelspec": {
      "name": "python3",
      "display_name": "Python 3"
    }
  },
  "cells": [
    {
      "cell_type": "markdown",
      "metadata": {
        "id": "view-in-github",
        "colab_type": "text"
      },
      "source": [
        "<a href=\"https://colab.research.google.com/github/nehalbaid10/program1/blob/master/Program3.ipynb\" target=\"_parent\"><img src=\"https://colab.research.google.com/assets/colab-badge.svg\" alt=\"Open In Colab\"/></a>"
      ]
    },
    {
      "cell_type": "code",
      "metadata": {
        "id": "faNwJB3HRHHn",
        "colab_type": "code",
        "colab": {
          "base_uri": "https://localhost:8080/",
          "height": 175
        },
        "outputId": "fcc56452-6d11-4a1b-8b82-a69a99b36871"
      },
      "source": [
        " \n",
        "\"\"\"Trying different functions on list\"\"\"\n",
        " \n",
        "mylist = [1,\"apple\",2,\"orange\",3]\n",
        "print(mylist)\n",
        "mylist.append(\"banana\")\n",
        "print(mylist)\n",
        "mylist.insert(0,\"berry\")\n",
        "print(mylist)\n",
        "mylist2 = [2,1,5,6,8]\n",
        "mylist2.sort()\n",
        "print(mylist2)\n",
        "print (mylist[2:])\n",
        "l = input(print(\"enter elements separated by space\"))\n",
        "mylist3 = l.split()\n",
        "print(mylist3)"
      ],
      "execution_count": 14,
      "outputs": [
        {
          "output_type": "stream",
          "text": [
            "[1, 'apple', 2, 'orange', 3]\n",
            "[1, 'apple', 2, 'orange', 3, 'banana']\n",
            "['berry', 1, 'apple', 2, 'orange', 3, 'banana']\n",
            "[1, 2, 5, 6, 8]\n",
            "['apple', 2, 'orange', 3, 'banana']\n",
            "enter elements separated by space\n",
            "1 2 nehal baid 3 4 python\n",
            "['1', '2', 'nehal', 'baid', '3', '4', 'python']\n"
          ],
          "name": "stdout"
        }
      ]
    },
    {
      "cell_type": "markdown",
      "metadata": {
        "id": "ouEu66auWjX2",
        "colab_type": "text"
      },
      "source": [
        ""
      ]
    },
    {
      "cell_type": "code",
      "metadata": {
        "id": "Q6MvIq_-WkAp",
        "colab_type": "code",
        "colab": {
          "base_uri": "https://localhost:8080/",
          "height": 69
        },
        "outputId": "d77ea404-b7f2-418a-ebac-9467700e6701"
      },
      "source": [
        "\"\"\" accessing elements from tuples \"\"\"\n",
        "mytup = (\"c\",\"java\",1,2,3)\n",
        "print(mytup)\n",
        "print(len(mytup))\n",
        "print(mytup[1])"
      ],
      "execution_count": 17,
      "outputs": [
        {
          "output_type": "stream",
          "text": [
            "('c', 'java', 1, 2, 3)\n",
            "5\n",
            "java\n"
          ],
          "name": "stdout"
        }
      ]
    },
    {
      "cell_type": "code",
      "metadata": {
        "id": "I8DPC1PtXC1p",
        "colab_type": "code",
        "colab": {
          "base_uri": "https://localhost:8080/",
          "height": 106
        },
        "outputId": "20fbe78f-82a8-483a-bf10-367bdb25b565"
      },
      "source": [
        "\"\"\" different functions using dictionaries \"\"\"\n",
        "mydict = {\"humour\" : \"funny\",\"detective\":\"mystery\",\"vexed\":\"anger\"}\n",
        "print(mydict)\n",
        "print(len(mydict))\n",
        "print(mydict[\"humour\"])\n",
        "del mydict[\"detective\"]\n",
        "print(mydict)\n",
        "del (mydict)"
      ],
      "execution_count": 27,
      "outputs": [
        {
          "output_type": "stream",
          "text": [
            "{'humour': 'funny', 'detective': 'mystery', 'vexed': 'anger'}\n",
            "3\n",
            "funny\n",
            "{'humour': 'funny', 'vexed': 'anger'}\n"
          ],
          "name": "stdout"
        }
      ]
    }
  ]
}