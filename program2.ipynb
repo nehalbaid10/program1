{
  "nbformat": 4,
  "nbformat_minor": 0,
  "metadata": {
    "colab": {
      "name": "program2.ipynb",
      "provenance": [],
      "collapsed_sections": [],
      "authorship_tag": "ABX9TyO5ePMT+UcNACy4djgz0D51",
      "include_colab_link": true
    },
    "kernelspec": {
      "name": "python3",
      "display_name": "Python 3"
    }
  },
  "cells": [
    {
      "cell_type": "markdown",
      "metadata": {
        "id": "view-in-github",
        "colab_type": "text"
      },
      "source": [
        "<a href=\"https://colab.research.google.com/github/nehalbaid10/program1/blob/master/program2.ipynb\" target=\"_parent\"><img src=\"https://colab.research.google.com/assets/colab-badge.svg\" alt=\"Open In Colab\"/></a>"
      ]
    },
    {
      "cell_type": "code",
      "metadata": {
        "id": "ojcPRJ4HB1Yc",
        "colab_type": "code",
        "colab": {
          "base_uri": "https://localhost:8080/",
          "height": 153
        },
        "outputId": "cb4b4fa7-c9e9-4695-de58-dcd6ea0568f7"
      },
      "source": [
        "l = []\n",
        "for x in range(0,5):\n",
        "     a=int(input(\"enter a number\"))\n",
        "     l.append(a)\n",
        "\n",
        "for num in l:\n",
        "      if(num > 0):\n",
        "          print(num)"
      ],
      "execution_count": 17,
      "outputs": [
        {
          "output_type": "stream",
          "text": [
            "enter a number12\n",
            "enter a number-7\n",
            "enter a number5\n",
            "enter a number64\n",
            "enter a number-14\n",
            "12\n",
            "5\n",
            "64\n"
          ],
          "name": "stdout"
        }
      ]
    }
  ]
}