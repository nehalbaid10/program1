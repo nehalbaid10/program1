{
  "nbformat": 4,
  "nbformat_minor": 0,
  "metadata": {
    "colab": {
      "name": "MLproject.ipynb",
      "provenance": [],
      "authorship_tag": "ABX9TyPMiobgiyxzd7LpUk9JgDE+",
      "include_colab_link": true
    },
    "kernelspec": {
      "name": "python3",
      "display_name": "Python 3"
    }
  },
  "cells": [
    {
      "cell_type": "markdown",
      "metadata": {
        "id": "view-in-github",
        "colab_type": "text"
      },
      "source": [
        "<a href=\"https://colab.research.google.com/github/nehalbaid10/program1/blob/master/MLproject.ipynb\" target=\"_parent\"><img src=\"https://colab.research.google.com/assets/colab-badge.svg\" alt=\"Open In Colab\"/></a>"
      ]
    },
    {
      "cell_type": "code",
      "metadata": {
        "id": "Sq0JnITKO6vP",
        "colab_type": "code",
        "colab": {
          "base_uri": "https://localhost:8080/",
          "height": 149
        },
        "outputId": "829994f3-7b27-4bb5-dd33-4fe9789a1aaa"
      },
      "source": [
        "import sys\n",
        "print('Python: {}'.format(sys.version))\n",
        "import scipy\n",
        "print('SciPy: {}'.format(scipy.__version__))\n",
        "import numpy\n",
        "print('Numpy: {}'.format(numpy.__version__))\n",
        "import matplotlib\n",
        "print('Matplotlib: {}'.format(matplotlib.__version__))\n",
        "import pandas\n",
        "print('Pandas: {}'.format(pandas.__version__))\n",
        "import sklearn\n",
        "print('Sklearn: {}'.format(sklearn.__version__))"
      ],
      "execution_count": 5,
      "outputs": [
        {
          "output_type": "stream",
          "text": [
            "Python: 3.6.9 (default, Apr 18 2020, 01:56:04) \n",
            "[GCC 8.4.0]\n",
            "SciPy: 1.4.1\n",
            "Numpy: 1.18.5\n",
            "Matplotlib: 3.2.2\n",
            "Pandas: 1.0.5\n",
            "Sklearn: 0.22.2.post1\n"
          ],
          "name": "stdout"
        }
      ]
    },
    {
      "cell_type": "code",
      "metadata": {
        "id": "GNzG8IBoROmq",
        "colab_type": "code",
        "colab": {}
      },
      "source": [
        "import pandas\n",
        "from pandas import read_csv\n",
        "from pandas.plotting import scatter_matrix\n",
        "from matplotlib import pyplot\n",
        "from sklearn.model_selection import train_test_split\n",
        "from sklearn.model_selection import cross_val_score\n",
        "from sklearn.model_selection import StratifiedKFold\n",
        "from sklearn.metrics import classification_report\n",
        "from sklearn.metrics import confusion_matrix\n",
        "from sklearn.metrics import accuracy_score\n",
        "from sklearn.linear_model import LogisticRegression\n",
        "from sklearn.tree import DecisionTreeClassifier\n",
        "from sklearn.discriminant_analysis import LinearDiscriminantAnalysis\n",
        "from sklearn.naive_bayes import GaussianNB\n",
        "from sklearn.svm import SVC\n",
        "from sklearn import model_selection\n",
        "from sklearn.ensemble import VotingClassifier"
      ],
      "execution_count": 12,
      "outputs": []
    },
    {
      "cell_type": "code",
      "metadata": {
        "id": "4VebOHJWUJy8",
        "colab_type": "code",
        "colab": {}
      },
      "source": [
        "#loading data\n",
        "url = \"https://raw.githubusercontent.com/jbrownlee/Datasets/master/iris.csv\"\n",
        "names = ['sepal-length', 'sepal-width', 'petal-length', 'class']\n",
        "dataset = read_csv(url,names=names)"
      ],
      "execution_count": 15,
      "outputs": []
    },
    {
      "cell_type": "code",
      "metadata": {
        "id": "Qd5lPN4BVmkI",
        "colab_type": "code",
        "colab": {
          "base_uri": "https://localhost:8080/",
          "height": 432
        },
        "outputId": "d07f1196-7c40-4e0b-86d8-1968a5017938"
      },
      "source": [
        "#dimenions of datasets\n",
        "print(dataset.shape)\n",
        "#peek at data\n",
        "print(dataset.head(20))"
      ],
      "execution_count": 17,
      "outputs": [
        {
          "output_type": "stream",
          "text": [
            "(150, 4)\n",
            "     sepal-length  sepal-width  petal-length        class\n",
            "5.1           3.5          1.4           0.2  Iris-setosa\n",
            "4.9           3.0          1.4           0.2  Iris-setosa\n",
            "4.7           3.2          1.3           0.2  Iris-setosa\n",
            "4.6           3.1          1.5           0.2  Iris-setosa\n",
            "5.0           3.6          1.4           0.2  Iris-setosa\n",
            "5.4           3.9          1.7           0.4  Iris-setosa\n",
            "4.6           3.4          1.4           0.3  Iris-setosa\n",
            "5.0           3.4          1.5           0.2  Iris-setosa\n",
            "4.4           2.9          1.4           0.2  Iris-setosa\n",
            "4.9           3.1          1.5           0.1  Iris-setosa\n",
            "5.4           3.7          1.5           0.2  Iris-setosa\n",
            "4.8           3.4          1.6           0.2  Iris-setosa\n",
            "4.8           3.0          1.4           0.1  Iris-setosa\n",
            "4.3           3.0          1.1           0.1  Iris-setosa\n",
            "5.8           4.0          1.2           0.2  Iris-setosa\n",
            "5.7           4.4          1.5           0.4  Iris-setosa\n",
            "5.4           3.9          1.3           0.4  Iris-setosa\n",
            "5.1           3.5          1.4           0.3  Iris-setosa\n",
            "5.7           3.8          1.7           0.3  Iris-setosa\n",
            "5.1           3.8          1.5           0.3  Iris-setosa\n"
          ],
          "name": "stdout"
        }
      ]
    },
    {
      "cell_type": "code",
      "metadata": {
        "id": "eI_mS9_aWCUc",
        "colab_type": "code",
        "colab": {
          "base_uri": "https://localhost:8080/",
          "height": 281
        },
        "outputId": "5f6faa72-ed1b-47c2-d88a-f4d6e2786ace"
      },
      "source": [
        "#statistical summary\n",
        "print(dataset.describe)"
      ],
      "execution_count": 18,
      "outputs": [
        {
          "output_type": "stream",
          "text": [
            "<bound method NDFrame.describe of      sepal-length  sepal-width  petal-length           class\n",
            "5.1           3.5          1.4           0.2     Iris-setosa\n",
            "4.9           3.0          1.4           0.2     Iris-setosa\n",
            "4.7           3.2          1.3           0.2     Iris-setosa\n",
            "4.6           3.1          1.5           0.2     Iris-setosa\n",
            "5.0           3.6          1.4           0.2     Iris-setosa\n",
            "..            ...          ...           ...             ...\n",
            "6.7           3.0          5.2           2.3  Iris-virginica\n",
            "6.3           2.5          5.0           1.9  Iris-virginica\n",
            "6.5           3.0          5.2           2.0  Iris-virginica\n",
            "6.2           3.4          5.4           2.3  Iris-virginica\n",
            "5.9           3.0          5.1           1.8  Iris-virginica\n",
            "\n",
            "[150 rows x 4 columns]>\n"
          ],
          "name": "stdout"
        }
      ]
    },
    {
      "cell_type": "code",
      "metadata": {
        "id": "9RTYnpOwWY6s",
        "colab_type": "code",
        "colab": {
          "base_uri": "https://localhost:8080/",
          "height": 111
        },
        "outputId": "86e90c17-17a7-4e41-97c2-d5645b3e92f2"
      },
      "source": [
        "#class distribution\n",
        "print(dataset.groupby('class').size())"
      ],
      "execution_count": 19,
      "outputs": [
        {
          "output_type": "stream",
          "text": [
            "class\n",
            "Iris-setosa        50\n",
            "Iris-versicolor    50\n",
            "Iris-virginica     50\n",
            "dtype: int64\n"
          ],
          "name": "stdout"
        }
      ]
    },
    {
      "cell_type": "code",
      "metadata": {
        "id": "EmCU9g1_WpyS",
        "colab_type": "code",
        "colab": {
          "base_uri": "https://localhost:8080/",
          "height": 265
        },
        "outputId": "1c02ba3c-99c9-4e0b-dbcd-d0109b2ca63c"
      },
      "source": [
        "#univariate plot - box and whisker plot\n",
        "dataset.plot(kind='box',subplots=True, layout=(2,2),sharex=False,sharey=False)\n",
        "pyplot.show()"
      ],
      "execution_count": 20,
      "outputs": [
        {
          "output_type": "display_data",
          "data": {
            "image/png": "[encoded data removed]",
            "text/plain": [
              "<Figure size 432x288 with 4 Axes>"
            ]
          },
          "metadata": {
            "tags": [],
            "needs_background": "light"
          }
        }
      ]
    },
    {
      "cell_type": "code",
      "metadata": {
        "id": "-IztI2dTXTbU",
        "colab_type": "code",
        "colab": {
          "base_uri": "https://localhost:8080/",
          "height": 281
        },
        "outputId": "f72243c3-714d-403a-a0cd-1dd03aa190aa"
      },
      "source": [
        "#histogram of variable\n",
        "dataset.hist()\n",
        "pyplot.show()"
      ],
      "execution_count": 21,
      "outputs": [
        {
          "output_type": "display_data",
          "data": {
            "image/png": "[encoded data removed]",
            "text/plain": [
              "<Figure size 432x288 with 4 Axes>"
            ]
          },
          "metadata": {
            "tags": [],
            "needs_background": "light"
          }
        }
      ]
    },
    {
      "cell_type": "code",
      "metadata": {
        "id": "5nbiXnFXXioA",
        "colab_type": "code",
        "colab": {
          "base_uri": "https://localhost:8080/",
          "height": 282
        },
        "outputId": "b0c2aa75-e4a2-44b6-8a06-de923f24aba4"
      },
      "source": [
        "#multivariate plots\n",
        "scatter_matrix(dataset)\n",
        "pyplot.show()"
      ],
      "execution_count": 22,
      "outputs": [
        {
          "output_type": "display_data",
          "data": {
            "image/png": "[encoded data removed]",
            "text/plain": [
              "<Figure size 432x288 with 9 Axes>"
            ]
          },
          "metadata": {
            "tags": [],
            "needs_background": "light"
          }
        }
      ]
    },
    {
      "cell_type": "code",
      "metadata": {
        "id": "j-zU_pDgX2BO",
        "colab_type": "code",
        "colab": {}
      },
      "source": [
        "#creating a validation data set\n",
        "#splitting dataset\n",
        "array = dataset.values\n",
        "X = array[:,0:3]\n",
        "Y = array[:,3]\n",
        "X_train, X_validation, Y_train, Y_validation = train_test_split(X,Y, test_size=0.2,random_state=1)"
      ],
      "execution_count": 26,
      "outputs": []
    },
    {
      "cell_type": "code",
      "metadata": {
        "id": "wQtUFicqZGZV",
        "colab_type": "code",
        "colab": {
          "base_uri": "https://localhost:8080/",
          "height": 252
        },
        "outputId": "0a93ce49-1c10-4ea8-fb8b-f5bed1373141"
      },
      "source": [
        "#logistic regression\n",
        "#linear Discriminant Analysis\n",
        "#K nearest neighbours\n",
        "#classification and regression trees\n",
        "#gaussian naive bayes\n",
        "#support vector machines\n",
        "models =[]\n",
        "models.append(('LR', LogisticRegression(solver='liblinear',multi_class='ovr')))\n",
        "models.append(('LDA',LinearDiscriminantAnalysis()))\n",
        "models.append(('KNN', KNeighborsClassifier()))\n",
        "models.append(('NB', GaussianNB()))\n",
        "models.append(('SVN', SVC(gamma='auto')))"
      ],
      "execution_count": 33,
      "outputs": [
        {
          "output_type": "error",
          "ename": "NameError",
          "evalue": "ignored",
          "traceback": [
            "\u001b[0;31m---------------------------------------------------------------------------\u001b[0m",
            "\u001b[0;31mNameError\u001b[0m                                 Traceback (most recent call last)",
            "\u001b[0;32m<ipython-input-33-d73cb07fc41f>\u001b[0m in \u001b[0;36m<module>\u001b[0;34m()\u001b[0m\n\u001b[1;32m      8\u001b[0m \u001b[0mmodels\u001b[0m\u001b[0;34m.\u001b[0m\u001b[0mappend\u001b[0m\u001b[0;34m(\u001b[0m\u001b[0;34m(\u001b[0m\u001b[0;34m'LR'\u001b[0m\u001b[0;34m,\u001b[0m \u001b[0mLogisticRegression\u001b[0m\u001b[0;34m(\u001b[0m\u001b[0msolver\u001b[0m\u001b[0;34m=\u001b[0m\u001b[0;34m'liblinear'\u001b[0m\u001b[0;34m,\u001b[0m\u001b[0mmulti_class\u001b[0m\u001b[0;34m=\u001b[0m\u001b[0;34m'ovr'\u001b[0m\u001b[0;34m)\u001b[0m\u001b[0;34m)\u001b[0m\u001b[0;34m)\u001b[0m\u001b[0;34m\u001b[0m\u001b[0;34m\u001b[0m\u001b[0m\n\u001b[1;32m      9\u001b[0m \u001b[0mmodels\u001b[0m\u001b[0;34m.\u001b[0m\u001b[0mappend\u001b[0m\u001b[0;34m(\u001b[0m\u001b[0;34m(\u001b[0m\u001b[0;34m'LDA'\u001b[0m\u001b[0;34m,\u001b[0m\u001b[0mLinearDiscriminantAnalysis\u001b[0m\u001b[0;34m(\u001b[0m\u001b[0;34m)\u001b[0m\u001b[0;34m)\u001b[0m\u001b[0;34m)\u001b[0m\u001b[0;34m\u001b[0m\u001b[0;34m\u001b[0m\u001b[0m\n\u001b[0;32m---> 10\u001b[0;31m \u001b[0mmodels\u001b[0m\u001b[0;34m.\u001b[0m\u001b[0mappend\u001b[0m\u001b[0;34m(\u001b[0m\u001b[0;34m(\u001b[0m\u001b[0;34m'KNN'\u001b[0m\u001b[0;34m,\u001b[0m \u001b[0mKNeighborsClassifier\u001b[0m\u001b[0;34m(\u001b[0m\u001b[0;34m)\u001b[0m\u001b[0;34m)\u001b[0m\u001b[0;34m)\u001b[0m\u001b[0;34m\u001b[0m\u001b[0;34m\u001b[0m\u001b[0m\n\u001b[0m\u001b[1;32m     11\u001b[0m \u001b[0mmodels\u001b[0m\u001b[0;34m.\u001b[0m\u001b[0mappend\u001b[0m\u001b[0;34m(\u001b[0m\u001b[0;34m(\u001b[0m\u001b[0;34m'NB'\u001b[0m\u001b[0;34m,\u001b[0m \u001b[0mGaussianNB\u001b[0m\u001b[0;34m(\u001b[0m\u001b[0;34m)\u001b[0m\u001b[0;34m)\u001b[0m\u001b[0;34m)\u001b[0m\u001b[0;34m\u001b[0m\u001b[0;34m\u001b[0m\u001b[0m\n\u001b[1;32m     12\u001b[0m \u001b[0mmodels\u001b[0m\u001b[0;34m.\u001b[0m\u001b[0mappend\u001b[0m\u001b[0;34m(\u001b[0m\u001b[0;34m(\u001b[0m\u001b[0;34m'SVN'\u001b[0m\u001b[0;34m,\u001b[0m \u001b[0mSVC\u001b[0m\u001b[0;34m(\u001b[0m\u001b[0mgamma\u001b[0m\u001b[0;34m=\u001b[0m\u001b[0;34m'auto'\u001b[0m\u001b[0;34m)\u001b[0m\u001b[0;34m)\u001b[0m\u001b[0;34m)\u001b[0m\u001b[0;34m\u001b[0m\u001b[0;34m\u001b[0m\u001b[0m\n",
            "\u001b[0;31mNameError\u001b[0m: name 'KNeighborsClassifier' is not defined"
          ]
        }
      ]
    },
    {
      "cell_type": "code",
      "metadata": {
        "id": "fKMwLTq9bSbO",
        "colab_type": "code",
        "colab": {
          "base_uri": "https://localhost:8080/",
          "height": 150
        },
        "outputId": "fc801acd-82e5-4e55-c70e-2eebb8d2872b"
      },
      "source": [
        "#evaluate the created model\n",
        "results = []\n",
        "names = []\n",
        "for name,model in models:\n",
        "  kfold  = StratifiedKFold(n_splits=10, random_state=1)\n",
        "  cv_results = cross_val_score(model, X_train, Y_train, cv = kfold, scoring='accuracy')\n",
        "  results.append(cv_results)\n",
        "  names.append(name)\n",
        "  print('%s: %f (%f)' % (name, cv_results.mean(),cv_results.std()))"
      ],
      "execution_count": 34,
      "outputs": [
        {
          "output_type": "stream",
          "text": [
            "LR: 0.916667 (0.064550)\n",
            "LDA: 0.966667 (0.055277)\n"
          ],
          "name": "stdout"
        },
        {
          "output_type": "stream",
          "text": [
            "/usr/local/lib/python3.6/dist-packages/sklearn/model_selection/_split.py:296: FutureWarning: Setting a random_state has no effect since shuffle is False. This will raise an error in 0.24. You should leave random_state to its default (None), or set shuffle=True.\n",
            "  FutureWarning\n",
            "/usr/local/lib/python3.6/dist-packages/sklearn/model_selection/_split.py:296: FutureWarning: Setting a random_state has no effect since shuffle is False. This will raise an error in 0.24. You should leave random_state to its default (None), or set shuffle=True.\n",
            "  FutureWarning\n"
          ],
          "name": "stderr"
        }
      ]
    },
    {
      "cell_type": "code",
      "metadata": {
        "id": "O0UlkDutcxOh",
        "colab_type": "code",
        "colab": {
          "base_uri": "https://localhost:8080/",
          "height": 281
        },
        "outputId": "41d82189-6eb0-4bb2-b8dd-51ce9a4b42d2"
      },
      "source": [
        "#compare our models\n",
        "pyplot.boxplot(results, labels = names)\n",
        "pyplot.title('algorithm comparison')\n",
        "pyplot.show()\n"
      ],
      "execution_count": 35,
      "outputs": [
        {
          "output_type": "display_data",
          "data": {
            "image/png": "[encoded data removed]",
            "text/plain": [
              "<Figure size 432x288 with 1 Axes>"
            ]
          },
          "metadata": {
            "tags": [],
            "needs_background": "light"
          }
        }
      ]
    },
    {
      "cell_type": "code",
      "metadata": {
        "id": "GNLlsCbodKB1",
        "colab_type": "code",
        "colab": {
          "base_uri": "https://localhost:8080/",
          "height": 281
        },
        "outputId": "06eb6bd9-3070-4bfc-ba04-a57c4a884b0d"
      },
      "source": [
        "#make predictions\n",
        "model = SVC(gamma='auto')\n",
        "model.fit(X_train,Y_train)\n",
        "predictions = model.predict(X_validation)\n",
        "print(accuracy_score(Y_validation,predictions))\n",
        "print(confusion_matrix(Y_validation, predictions))\n",
        "print(classification_report(Y_validation,predictions))"
      ],
      "execution_count": 37,
      "outputs": [
        {
          "output_type": "stream",
          "text": [
            "0.9666666666666667\n",
            "[[11  0  0]\n",
            " [ 0 12  1]\n",
            " [ 0  0  6]]\n",
            "                 precision    recall  f1-score   support\n",
            "\n",
            "    Iris-setosa       1.00      1.00      1.00        11\n",
            "Iris-versicolor       1.00      0.92      0.96        13\n",
            " Iris-virginica       0.86      1.00      0.92         6\n",
            "\n",
            "       accuracy                           0.97        30\n",
            "      macro avg       0.95      0.97      0.96        30\n",
            "   weighted avg       0.97      0.97      0.97        30\n",
            "\n"
          ],
          "name": "stdout"
        }
      ]
    }
  ]
}